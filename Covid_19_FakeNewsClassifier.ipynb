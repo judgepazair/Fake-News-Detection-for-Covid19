{
  "nbformat": 4,
  "nbformat_minor": 0,
  "metadata": {
    "kernelspec": {
      "display_name": "Python 3",
      "language": "python",
      "name": "python3"
    },
    "language_info": {
      "codemirror_mode": {
        "name": "ipython",
        "version": 3
      },
      "file_extension": ".py",
      "mimetype": "text/x-python",
      "name": "python",
      "nbconvert_exporter": "python",
      "pygments_lexer": "ipython3",
      "version": "3.7.4"
    },
    "colab": {
      "name": "Covid-19_FakeNewsClassifier.ipynb",
      "provenance": []
    }
  },
  "cells": [
    {
      "cell_type": "markdown",
      "metadata": {
        "id": "tRsrDYrj36R5",
        "colab_type": "text"
      },
      "source": [
        "# Importing Libraries"
      ]
    },
    {
      "cell_type": "code",
      "metadata": {
        "id": "cJSMfT4v32BJ",
        "colab_type": "code",
        "colab": {}
      },
      "source": [
        "import pandas as pd\n",
        "import os\n",
        "import numpy as np\n",
        "\n",
        "import re\n",
        "import nltk\n",
        "from nltk.corpus import stopwords\n",
        "from nltk.stem import WordNetLemmatizer\n",
        "\n",
        "from sklearn.feature_extraction.text import CountVectorizer\n",
        "from sklearn.feature_extraction.text import TfidfVectorizer\n",
        "from sklearn.feature_extraction.text import TfidfTransformer\n",
        "from sklearn import metrics\n",
        "from sklearn.metrics import confusion_matrix \n",
        "from sklearn.metrics import accuracy_score \n",
        "from sklearn.metrics import classification_report \n",
        "from sklearn.model_selection import train_test_split\n",
        "from sklearn.linear_model import LogisticRegression\n",
        "from sklearn import svm\n",
        "from sklearn.ensemble import RandomForestClassifier\n",
        "from sklearn.linear_model import LogisticRegressionCV\n",
        "\n",
        "\n",
        "import joblib\n",
        "from sklearn import linear_model\n",
        "import pickle"
      ],
      "execution_count": null,
      "outputs": []
    },
    {
      "cell_type": "markdown",
      "metadata": {
        "id": "IWQGQSwl4R87",
        "colab_type": "text"
      },
      "source": [
        "# Loading Data"
      ]
    },
    {
      "cell_type": "code",
      "metadata": {
        "id": "TZdE_bto32BS",
        "colab_type": "code",
        "colab": {}
      },
      "source": [
        "data=pd.read_csv('C:\\\\Users\\\\shaun\\\\OneDrive\\\\Desktop\\\\My_Files\\\\Codes\\\\Self Project 2\\\\Data_Set\\\\corona_fake.csv')"
      ],
      "execution_count": null,
      "outputs": []
    },
    {
      "cell_type": "code",
      "metadata": {
        "id": "Vog5-A9732Bb",
        "colab_type": "code",
        "colab": {},
        "outputId": "985897d7-17c2-4ed5-cc03-e0a3bf6802ea"
      },
      "source": [
        "data"
      ],
      "execution_count": null,
      "outputs": [
        {
          "output_type": "execute_result",
          "data": {
            "text/html": [
              "<div>\n",
              "<style scoped>\n",
              "    .dataframe tbody tr th:only-of-type {\n",
              "        vertical-align: middle;\n",
              "    }\n",
              "\n",
              "    .dataframe tbody tr th {\n",
              "        vertical-align: top;\n",
              "    }\n",
              "\n",
              "    .dataframe thead th {\n",
              "        text-align: right;\n",
              "    }\n",
              "</style>\n",
              "<table border=\"1\" class=\"dataframe\">\n",
              "  <thead>\n",
              "    <tr style=\"text-align: right;\">\n",
              "      <th></th>\n",
              "      <th>title</th>\n",
              "      <th>text</th>\n",
              "      <th>source</th>\n",
              "      <th>label</th>\n",
              "    </tr>\n",
              "  </thead>\n",
              "  <tbody>\n",
              "    <tr>\n",
              "      <th>0</th>\n",
              "      <td>Due to the recent outbreak for the Coronavirus...</td>\n",
              "      <td>You just need to add water, and the drugs and ...</td>\n",
              "      <td>coronavirusmedicalkit.com</td>\n",
              "      <td>Fake</td>\n",
              "    </tr>\n",
              "    <tr>\n",
              "      <th>1</th>\n",
              "      <td>NaN</td>\n",
              "      <td>Hydroxychloroquine has been shown to have a 10...</td>\n",
              "      <td>RudyGiuliani</td>\n",
              "      <td>Fake</td>\n",
              "    </tr>\n",
              "    <tr>\n",
              "      <th>2</th>\n",
              "      <td>NaN</td>\n",
              "      <td>Fact: Hydroxychloroquine has been shown to hav...</td>\n",
              "      <td>CharlieKirk</td>\n",
              "      <td>Fake</td>\n",
              "    </tr>\n",
              "    <tr>\n",
              "      <th>3</th>\n",
              "      <td>NaN</td>\n",
              "      <td>The Corona virus is a man made virus created i...</td>\n",
              "      <td>JoanneWrightForCongress</td>\n",
              "      <td>Fake</td>\n",
              "    </tr>\n",
              "    <tr>\n",
              "      <th>4</th>\n",
              "      <td>NaN</td>\n",
              "      <td>Doesn’t @BillGates finance research at the Wuh...</td>\n",
              "      <td>JoanneWrightForCongress</td>\n",
              "      <td>Fake</td>\n",
              "    </tr>\n",
              "    <tr>\n",
              "      <th>...</th>\n",
              "      <td>...</td>\n",
              "      <td>...</td>\n",
              "      <td>...</td>\n",
              "      <td>...</td>\n",
              "    </tr>\n",
              "    <tr>\n",
              "      <th>1159</th>\n",
              "      <td>Could the Power of the Sun Slow the Coronavirus?</td>\n",
              "      <td>A study suggests that ultraviolet rays could s...</td>\n",
              "      <td>https://www.nytimes.com/</td>\n",
              "      <td>TRUE</td>\n",
              "    </tr>\n",
              "    <tr>\n",
              "      <th>1160</th>\n",
              "      <td>Key evidence for coronavirus spread is flawed ...</td>\n",
              "      <td>Last week, a medical journal reported that a b...</td>\n",
              "      <td>https://www.nytimes.com/</td>\n",
              "      <td>TRUE</td>\n",
              "    </tr>\n",
              "    <tr>\n",
              "      <th>1161</th>\n",
              "      <td>Summer Heat May Not Diminish Coronavirus Strength</td>\n",
              "      <td>A new report, sent to the White House science ...</td>\n",
              "      <td>https://www.nytimes.com/</td>\n",
              "      <td>TRUE</td>\n",
              "    </tr>\n",
              "    <tr>\n",
              "      <th>1162</th>\n",
              "      <td>How Long Will a Vaccine Really Take?</td>\n",
              "      <td>A vaccine would be the ultimate weapon against...</td>\n",
              "      <td>https://www.nytimes.com/</td>\n",
              "      <td>TRUE</td>\n",
              "    </tr>\n",
              "    <tr>\n",
              "      <th>1163</th>\n",
              "      <td>Why Funding the Covid-19 Response Could Be the...</td>\n",
              "      <td>Developing and delivering coronavirus vaccines...</td>\n",
              "      <td>https://www.nytimes.com/</td>\n",
              "      <td>TRUE</td>\n",
              "    </tr>\n",
              "  </tbody>\n",
              "</table>\n",
              "<p>1164 rows × 4 columns</p>\n",
              "</div>"
            ],
            "text/plain": [
              "                                                  title  \\\n",
              "0     Due to the recent outbreak for the Coronavirus...   \n",
              "1                                                   NaN   \n",
              "2                                                   NaN   \n",
              "3                                                   NaN   \n",
              "4                                                   NaN   \n",
              "...                                                 ...   \n",
              "1159   Could the Power of the Sun Slow the Coronavirus?   \n",
              "1160  Key evidence for coronavirus spread is flawed ...   \n",
              "1161  Summer Heat May Not Diminish Coronavirus Strength   \n",
              "1162               How Long Will a Vaccine Really Take?   \n",
              "1163  Why Funding the Covid-19 Response Could Be the...   \n",
              "\n",
              "                                                   text  \\\n",
              "0     You just need to add water, and the drugs and ...   \n",
              "1     Hydroxychloroquine has been shown to have a 10...   \n",
              "2     Fact: Hydroxychloroquine has been shown to hav...   \n",
              "3     The Corona virus is a man made virus created i...   \n",
              "4     Doesn’t @BillGates finance research at the Wuh...   \n",
              "...                                                 ...   \n",
              "1159  A study suggests that ultraviolet rays could s...   \n",
              "1160  Last week, a medical journal reported that a b...   \n",
              "1161  A new report, sent to the White House science ...   \n",
              "1162  A vaccine would be the ultimate weapon against...   \n",
              "1163  Developing and delivering coronavirus vaccines...   \n",
              "\n",
              "                         source label  \n",
              "0     coronavirusmedicalkit.com  Fake  \n",
              "1                  RudyGiuliani  Fake  \n",
              "2                   CharlieKirk  Fake  \n",
              "3       JoanneWrightForCongress  Fake  \n",
              "4       JoanneWrightForCongress  Fake  \n",
              "...                         ...   ...  \n",
              "1159   https://www.nytimes.com/  TRUE  \n",
              "1160   https://www.nytimes.com/  TRUE  \n",
              "1161   https://www.nytimes.com/  TRUE  \n",
              "1162   https://www.nytimes.com/  TRUE  \n",
              "1163   https://www.nytimes.com/  TRUE  \n",
              "\n",
              "[1164 rows x 4 columns]"
            ]
          },
          "metadata": {
            "tags": []
          },
          "execution_count": 3
        }
      ]
    },
    {
      "cell_type": "markdown",
      "metadata": {
        "id": "CcasmXB-4efc",
        "colab_type": "text"
      },
      "source": [
        "# Data Exploration and Data Engineering"
      ]
    },
    {
      "cell_type": "code",
      "metadata": {
        "id": "E4Imk2m-32Bk",
        "colab_type": "code",
        "colab": {},
        "outputId": "f39091a7-7122-49db-8a69-0595e7b1accb"
      },
      "source": [
        "data['label'].value_counts()"
      ],
      "execution_count": null,
      "outputs": [
        {
          "output_type": "execute_result",
          "data": {
            "text/plain": [
              "TRUE    584\n",
              "Fake    345\n",
              "fake    230\n",
              "Name: label, dtype: int64"
            ]
          },
          "metadata": {
            "tags": []
          },
          "execution_count": 4
        }
      ]
    },
    {
      "cell_type": "markdown",
      "metadata": {
        "id": "UATgkT7a32Bp",
        "colab_type": "text"
      },
      "source": [
        "### Renaming Labels"
      ]
    },
    {
      "cell_type": "code",
      "metadata": {
        "id": "8Kb0rwXD32Bq",
        "colab_type": "code",
        "colab": {}
      },
      "source": [
        "data[\"label\"]= data[\"label\"].str.replace(\"fake\", \"FAKE\", case = False) "
      ],
      "execution_count": null,
      "outputs": []
    },
    {
      "cell_type": "code",
      "metadata": {
        "id": "qpVh1mMi32Bz",
        "colab_type": "code",
        "colab": {}
      },
      "source": [
        "data[\"label\"]= data[\"label\"].str.replace(\"Fake\", \"FAKE\", case = False) "
      ],
      "execution_count": null,
      "outputs": []
    },
    {
      "cell_type": "code",
      "metadata": {
        "id": "2hkyitg532B7",
        "colab_type": "code",
        "colab": {},
        "outputId": "8603100a-8f4f-4983-9029-d7de644c32c8"
      },
      "source": [
        "data['label'].value_counts()"
      ],
      "execution_count": null,
      "outputs": [
        {
          "output_type": "execute_result",
          "data": {
            "text/plain": [
              "TRUE    584\n",
              "FAKE    575\n",
              "Name: label, dtype: int64"
            ]
          },
          "metadata": {
            "tags": []
          },
          "execution_count": 7
        }
      ]
    },
    {
      "cell_type": "markdown",
      "metadata": {
        "id": "rZm6XPjt32CR",
        "colab_type": "text"
      },
      "source": [
        "### Filling Rows with Missing Labels"
      ]
    },
    {
      "cell_type": "code",
      "metadata": {
        "id": "NfW-0KaT32CU",
        "colab_type": "code",
        "colab": {},
        "outputId": "57d38239-4d25-4299-bcb6-19b6b339dfa4"
      },
      "source": [
        "label_column=data['label'].isnull()\n",
        "label_column\n",
        "\n",
        "for i in range (1164):\n",
        "    if(label_column[i]==True):\n",
        "        print(i)\n",
        "########################################\n",
        "data.loc[5]['label'] = 'FAKE'\n",
        "data.loc[15]['label'] = 'TRUE'\n",
        "data.loc[43]['label'] = 'FAKE'\n",
        "data.loc[131]['label'] = 'TRUE'\n",
        "data.loc[242]['label'] = 'FAKE'"
      ],
      "execution_count": null,
      "outputs": [
        {
          "output_type": "stream",
          "text": [
            "5\n",
            "15\n",
            "43\n",
            "131\n",
            "242\n"
          ],
          "name": "stdout"
        }
      ]
    },
    {
      "cell_type": "code",
      "metadata": {
        "id": "kvCvgQUi32C2",
        "colab_type": "code",
        "colab": {},
        "outputId": "55ce3442-9434-43a9-87cc-13455b89b0b1"
      },
      "source": [
        "data_trial=data\n",
        "data_trial.head()"
      ],
      "execution_count": null,
      "outputs": [
        {
          "output_type": "execute_result",
          "data": {
            "text/html": [
              "<div>\n",
              "<style scoped>\n",
              "    .dataframe tbody tr th:only-of-type {\n",
              "        vertical-align: middle;\n",
              "    }\n",
              "\n",
              "    .dataframe tbody tr th {\n",
              "        vertical-align: top;\n",
              "    }\n",
              "\n",
              "    .dataframe thead th {\n",
              "        text-align: right;\n",
              "    }\n",
              "</style>\n",
              "<table border=\"1\" class=\"dataframe\">\n",
              "  <thead>\n",
              "    <tr style=\"text-align: right;\">\n",
              "      <th></th>\n",
              "      <th>title</th>\n",
              "      <th>text</th>\n",
              "      <th>source</th>\n",
              "      <th>label</th>\n",
              "    </tr>\n",
              "  </thead>\n",
              "  <tbody>\n",
              "    <tr>\n",
              "      <th>0</th>\n",
              "      <td>Due to the recent outbreak for the Coronavirus...</td>\n",
              "      <td>You just need to add water, and the drugs and ...</td>\n",
              "      <td>coronavirusmedicalkit.com</td>\n",
              "      <td>FAKE</td>\n",
              "    </tr>\n",
              "    <tr>\n",
              "      <th>1</th>\n",
              "      <td>NaN</td>\n",
              "      <td>Hydroxychloroquine has been shown to have a 10...</td>\n",
              "      <td>RudyGiuliani</td>\n",
              "      <td>FAKE</td>\n",
              "    </tr>\n",
              "    <tr>\n",
              "      <th>2</th>\n",
              "      <td>NaN</td>\n",
              "      <td>Fact: Hydroxychloroquine has been shown to hav...</td>\n",
              "      <td>CharlieKirk</td>\n",
              "      <td>FAKE</td>\n",
              "    </tr>\n",
              "    <tr>\n",
              "      <th>3</th>\n",
              "      <td>NaN</td>\n",
              "      <td>The Corona virus is a man made virus created i...</td>\n",
              "      <td>JoanneWrightForCongress</td>\n",
              "      <td>FAKE</td>\n",
              "    </tr>\n",
              "    <tr>\n",
              "      <th>4</th>\n",
              "      <td>NaN</td>\n",
              "      <td>Doesn’t @BillGates finance research at the Wuh...</td>\n",
              "      <td>JoanneWrightForCongress</td>\n",
              "      <td>FAKE</td>\n",
              "    </tr>\n",
              "  </tbody>\n",
              "</table>\n",
              "</div>"
            ],
            "text/plain": [
              "                                               title  \\\n",
              "0  Due to the recent outbreak for the Coronavirus...   \n",
              "1                                                NaN   \n",
              "2                                                NaN   \n",
              "3                                                NaN   \n",
              "4                                                NaN   \n",
              "\n",
              "                                                text  \\\n",
              "0  You just need to add water, and the drugs and ...   \n",
              "1  Hydroxychloroquine has been shown to have a 10...   \n",
              "2  Fact: Hydroxychloroquine has been shown to hav...   \n",
              "3  The Corona virus is a man made virus created i...   \n",
              "4  Doesn’t @BillGates finance research at the Wuh...   \n",
              "\n",
              "                      source label  \n",
              "0  coronavirusmedicalkit.com  FAKE  \n",
              "1               RudyGiuliani  FAKE  \n",
              "2                CharlieKirk  FAKE  \n",
              "3    JoanneWrightForCongress  FAKE  \n",
              "4    JoanneWrightForCongress  FAKE  "
            ]
          },
          "metadata": {
            "tags": []
          },
          "execution_count": 9
        }
      ]
    },
    {
      "cell_type": "markdown",
      "metadata": {
        "id": "IGiRyWBn4rYb",
        "colab_type": "text"
      },
      "source": [
        "### Filling Rows with Missing Values"
      ]
    },
    {
      "cell_type": "code",
      "metadata": {
        "id": "Jjfknohh32C-",
        "colab_type": "code",
        "colab": {},
        "outputId": "bc70e373-8351-4da9-9e85-40ddd861eb97"
      },
      "source": [
        "data_trial.isnull().sum()"
      ],
      "execution_count": null,
      "outputs": [
        {
          "output_type": "execute_result",
          "data": {
            "text/plain": [
              "title     82\n",
              "text      10\n",
              "source    20\n",
              "label      0\n",
              "dtype: int64"
            ]
          },
          "metadata": {
            "tags": []
          },
          "execution_count": 10
        }
      ]
    },
    {
      "cell_type": "code",
      "metadata": {
        "id": "Y7Ra1m7w32DE",
        "colab_type": "code",
        "colab": {},
        "outputId": "8d8c66c4-78a7-4806-bd4e-c19e5d9f26ba"
      },
      "source": [
        "data_trial=data_trial.fillna(' ')\n",
        "print(data_trial.isnull().sum())"
      ],
      "execution_count": null,
      "outputs": [
        {
          "output_type": "stream",
          "text": [
            "title     0\n",
            "text      0\n",
            "source    0\n",
            "label     0\n",
            "dtype: int64\n"
          ],
          "name": "stdout"
        }
      ]
    },
    {
      "cell_type": "code",
      "metadata": {
        "id": "OXuHuzCe32DM",
        "colab_type": "code",
        "colab": {}
      },
      "source": [
        "data_trial['total']=data_trial['text']+' '+data_trial['title']"
      ],
      "execution_count": null,
      "outputs": []
    },
    {
      "cell_type": "code",
      "metadata": {
        "id": "MhfP_kzp32DR",
        "colab_type": "code",
        "colab": {},
        "outputId": "f1c5e0ba-cd63-4ac5-b074-49b2aae815ce"
      },
      "source": [
        "data_trial.head(10)"
      ],
      "execution_count": null,
      "outputs": [
        {
          "output_type": "execute_result",
          "data": {
            "text/html": [
              "<div>\n",
              "<style scoped>\n",
              "    .dataframe tbody tr th:only-of-type {\n",
              "        vertical-align: middle;\n",
              "    }\n",
              "\n",
              "    .dataframe tbody tr th {\n",
              "        vertical-align: top;\n",
              "    }\n",
              "\n",
              "    .dataframe thead th {\n",
              "        text-align: right;\n",
              "    }\n",
              "</style>\n",
              "<table border=\"1\" class=\"dataframe\">\n",
              "  <thead>\n",
              "    <tr style=\"text-align: right;\">\n",
              "      <th></th>\n",
              "      <th>title</th>\n",
              "      <th>text</th>\n",
              "      <th>source</th>\n",
              "      <th>label</th>\n",
              "      <th>total</th>\n",
              "    </tr>\n",
              "  </thead>\n",
              "  <tbody>\n",
              "    <tr>\n",
              "      <th>0</th>\n",
              "      <td>Due to the recent outbreak for the Coronavirus...</td>\n",
              "      <td>You just need to add water, and the drugs and ...</td>\n",
              "      <td>coronavirusmedicalkit.com</td>\n",
              "      <td>FAKE</td>\n",
              "      <td>You just need to add water, and the drugs and ...</td>\n",
              "    </tr>\n",
              "    <tr>\n",
              "      <th>1</th>\n",
              "      <td></td>\n",
              "      <td>Hydroxychloroquine has been shown to have a 10...</td>\n",
              "      <td>RudyGiuliani</td>\n",
              "      <td>FAKE</td>\n",
              "      <td>Hydroxychloroquine has been shown to have a 10...</td>\n",
              "    </tr>\n",
              "    <tr>\n",
              "      <th>2</th>\n",
              "      <td></td>\n",
              "      <td>Fact: Hydroxychloroquine has been shown to hav...</td>\n",
              "      <td>CharlieKirk</td>\n",
              "      <td>FAKE</td>\n",
              "      <td>Fact: Hydroxychloroquine has been shown to hav...</td>\n",
              "    </tr>\n",
              "    <tr>\n",
              "      <th>3</th>\n",
              "      <td></td>\n",
              "      <td>The Corona virus is a man made virus created i...</td>\n",
              "      <td>JoanneWrightForCongress</td>\n",
              "      <td>FAKE</td>\n",
              "      <td>The Corona virus is a man made virus created i...</td>\n",
              "    </tr>\n",
              "    <tr>\n",
              "      <th>4</th>\n",
              "      <td></td>\n",
              "      <td>Doesn’t @BillGates finance research at the Wuh...</td>\n",
              "      <td>JoanneWrightForCongress</td>\n",
              "      <td>FAKE</td>\n",
              "      <td>Doesn’t @BillGates finance research at the Wuh...</td>\n",
              "    </tr>\n",
              "    <tr>\n",
              "      <th>5</th>\n",
              "      <td>CORONA UNMASKED: Chinese Intelligence Officer ...</td>\n",
              "      <td></td>\n",
              "      <td></td>\n",
              "      <td>FAKE</td>\n",
              "      <td>CORONA UNMASKED: Chinese Intelligence Office...</td>\n",
              "    </tr>\n",
              "    <tr>\n",
              "      <th>6</th>\n",
              "      <td></td>\n",
              "      <td>Urgent: Health Bulletin to the Public. Ministr...</td>\n",
              "      <td>Ministry of Health</td>\n",
              "      <td>FAKE</td>\n",
              "      <td>Urgent: Health Bulletin to the Public. Ministr...</td>\n",
              "    </tr>\n",
              "    <tr>\n",
              "      <th>7</th>\n",
              "      <td></td>\n",
              "      <td>Pls tell ur families, relatives and friendsMOH...</td>\n",
              "      <td>NWLLAB</td>\n",
              "      <td>FAKE</td>\n",
              "      <td>Pls tell ur families, relatives and friendsMOH...</td>\n",
              "    </tr>\n",
              "    <tr>\n",
              "      <th>8</th>\n",
              "      <td></td>\n",
              "      <td>SERIOUS EXCELLENT ADVICE by Japanese doctors t...</td>\n",
              "      <td>Japanese doctors treating COVID-19 cases</td>\n",
              "      <td>FAKE</td>\n",
              "      <td>SERIOUS EXCELLENT ADVICE by Japanese doctors t...</td>\n",
              "    </tr>\n",
              "    <tr>\n",
              "      <th>9</th>\n",
              "      <td>Basic protective measures against the new coro...</td>\n",
              "      <td>Stay aware of the latest information on the CO...</td>\n",
              "      <td>https://www.who.int/emergencies/diseases/novel...</td>\n",
              "      <td>TRUE</td>\n",
              "      <td>Stay aware of the latest information on the CO...</td>\n",
              "    </tr>\n",
              "  </tbody>\n",
              "</table>\n",
              "</div>"
            ],
            "text/plain": [
              "                                               title  \\\n",
              "0  Due to the recent outbreak for the Coronavirus...   \n",
              "1                                                      \n",
              "2                                                      \n",
              "3                                                      \n",
              "4                                                      \n",
              "5  CORONA UNMASKED: Chinese Intelligence Officer ...   \n",
              "6                                                      \n",
              "7                                                      \n",
              "8                                                      \n",
              "9  Basic protective measures against the new coro...   \n",
              "\n",
              "                                                text  \\\n",
              "0  You just need to add water, and the drugs and ...   \n",
              "1  Hydroxychloroquine has been shown to have a 10...   \n",
              "2  Fact: Hydroxychloroquine has been shown to hav...   \n",
              "3  The Corona virus is a man made virus created i...   \n",
              "4  Doesn’t @BillGates finance research at the Wuh...   \n",
              "5                                                      \n",
              "6  Urgent: Health Bulletin to the Public. Ministr...   \n",
              "7  Pls tell ur families, relatives and friendsMOH...   \n",
              "8  SERIOUS EXCELLENT ADVICE by Japanese doctors t...   \n",
              "9  Stay aware of the latest information on the CO...   \n",
              "\n",
              "                                              source label  \\\n",
              "0                          coronavirusmedicalkit.com  FAKE   \n",
              "1                                       RudyGiuliani  FAKE   \n",
              "2                                        CharlieKirk  FAKE   \n",
              "3                            JoanneWrightForCongress  FAKE   \n",
              "4                            JoanneWrightForCongress  FAKE   \n",
              "5                                                     FAKE   \n",
              "6                                 Ministry of Health  FAKE   \n",
              "7                                             NWLLAB  FAKE   \n",
              "8           Japanese doctors treating COVID-19 cases  FAKE   \n",
              "9  https://www.who.int/emergencies/diseases/novel...  TRUE   \n",
              "\n",
              "                                               total  \n",
              "0  You just need to add water, and the drugs and ...  \n",
              "1  Hydroxychloroquine has been shown to have a 10...  \n",
              "2  Fact: Hydroxychloroquine has been shown to hav...  \n",
              "3  The Corona virus is a man made virus created i...  \n",
              "4  Doesn’t @BillGates finance research at the Wuh...  \n",
              "5    CORONA UNMASKED: Chinese Intelligence Office...  \n",
              "6  Urgent: Health Bulletin to the Public. Ministr...  \n",
              "7  Pls tell ur families, relatives and friendsMOH...  \n",
              "8  SERIOUS EXCELLENT ADVICE by Japanese doctors t...  \n",
              "9  Stay aware of the latest information on the CO...  "
            ]
          },
          "metadata": {
            "tags": []
          },
          "execution_count": 13
        }
      ]
    },
    {
      "cell_type": "markdown",
      "metadata": {
        "id": "uWLnOLqa40ak",
        "colab_type": "text"
      },
      "source": [
        "### Removing Punctuation and Converting Text to Lower Case"
      ]
    },
    {
      "cell_type": "code",
      "metadata": {
        "id": "xAKerbzL32Di",
        "colab_type": "code",
        "colab": {}
      },
      "source": [
        "data_trial['total'] = data_trial['total'].str.replace('[^\\w\\s]','')\n",
        "data_trial['total'] = data_trial['total'].str.lower()"
      ],
      "execution_count": null,
      "outputs": []
    },
    {
      "cell_type": "code",
      "metadata": {
        "id": "7N86wbRh32Dm",
        "colab_type": "code",
        "colab": {},
        "outputId": "bd5a1f8d-50d8-48c2-c60b-71de6459b80b"
      },
      "source": [
        "data_trial['total'][0]"
      ],
      "execution_count": null,
      "outputs": [
        {
          "output_type": "execute_result",
          "data": {
            "text/plain": [
              "'you just need to add water and the drugs and vaccines are ready to be administered there are two parts to the kit one holds pellets containing the chemical machinery that synthesises the end product and the other holds pellets containing instructions that telll the drug which compound to create mix two parts together in a chosen combination add water and the treatment is ready due to the recent outbreak for the coronavirus covid19 the world health organization is giving away vaccine kits just pay 495 for shipping'"
            ]
          },
          "metadata": {
            "tags": []
          },
          "execution_count": 17
        }
      ]
    },
    {
      "cell_type": "code",
      "metadata": {
        "id": "stYG_jU632Dt",
        "colab_type": "code",
        "colab": {},
        "outputId": "e3c8b3c7-68d4-4343-be4e-e9dda574c241"
      },
      "source": [
        "data_trial['total'][45]"
      ],
      "execution_count": null,
      "outputs": [
        {
          "output_type": "execute_result",
          "data": {
            "text/plain": [
              "'the covid2019 epidemic which began in the chinese city of wuhan managed to get out of china and spread throughout the world in two months in midmarch an article became popular in social networks according to which a dangerous strain was artificially created as part of a study of bat coronavirus by american scientists the scientific work was written by a team of biologists back in 2015 on november 9 of the same year it was published on the scientific portal nature  researchers studied the shco14 virus found in chinese horseshoe bats scientists combined this strain with another  its name is sars and it causes a severe acute respiratory syndrome or sars further the researchers generated and characterized a chimeric virus that can  multiply in the primary cells of the human respiratory tract in other words biologists altered the coronavirus of bats so much that they got a strain that could infect a person  and the virus would cause severe pneumonia in him among the authors of the article are listed as researchers at the university of north carolina usa and the wuhan virology institute china in 2020 users of social networks read the old scientific material and they had suspicions about who is behind the covid2019 epidemic if some people having read the article decided to share with subscribers the very fact of its existence then others are already building theories they are sure the coronavirus epidemic is the work of the us government and one of the goals of this diversion was to strike at its own citizens on russianlanguage twitter they also looked at the results of a study by scientists willy wilmer a german lawyer and politician really believes that the coronavirus was brought to china by infected american soldiers who arrived in the country for sporting events people agree with his version and are ready to blame the united states for thousands of deaths some users are sure that there are only two countries that will repel the united states in the situation with coronavirus although they do not yet say how they will do it and someone was not at all surprised that the united states was considered the culprit of the pandemic the comments did not answer the question however a military event was indeed held in china the world war games were held in wuhan at the end of october 2019 probably willy wimmer referred to them at least a former member of the un commission on biological and chemical weapons igor nikulin  interpreted the assumption of the german politician exactly and completely agree with him both politicians came to such conclusions not without reason these thoughts were prompted by the representative of the ministry of foreign affairs of china zhao lijian who also believes that covid2019 was brought into his country by the us military users who commented on a post about willy wimmers words and laboratory research in north carolina 2015 are sure that americans are really to blame for everything  and only because of their attitude to the rest of the world but it was not difficult for other users to guess which television channel most commentators prefer to watch and another commentator suggested that the reason for such hatred of people towards the usa is the refusal of medicines another commentator who learned about the experiments in the laboratory of north carolina easily believed in the guilt of the states and even suggested what to do with this country the news that the coronavirus reached the united states this person is very happy but there is an assumption that the united states came up with a coronavirus not only for china but also for other countries for each nationality  its own separate strain in fact while the virus supposedly created in 2015 is being discussed only by politicians and scientists far from laboratories until now specialists in the region have not published the results of comparisons of strains even before people learned about research in the north carolina laboratory they were building theories about where the coronavirus came from and there was nothing to do with natural causes in their research the main suspects were god putin and the marxist revolutionaries there are other considerations in this regard before the coronavirus spread around the world and caused a pandemic users of social networks began to speculate about who was behind it bill gates and his wife came under fire from conspiracy theorists  people learned about the coronavirus created in the us laboratory in 2015 they decided a pandemic is no coincidence'"
            ]
          },
          "metadata": {
            "tags": []
          },
          "execution_count": 18
        }
      ]
    },
    {
      "cell_type": "markdown",
      "metadata": {
        "id": "rul7Elbi32Dx",
        "colab_type": "text"
      },
      "source": [
        "## Train Test Split"
      ]
    },
    {
      "cell_type": "code",
      "metadata": {
        "id": "0yR95MW632Dy",
        "colab_type": "code",
        "colab": {},
        "outputId": "0e992f96-6822-43c5-bac3-be2f227bed9a"
      },
      "source": [
        "y=data_trial.label\n",
        "y"
      ],
      "execution_count": null,
      "outputs": [
        {
          "output_type": "execute_result",
          "data": {
            "text/plain": [
              "0       FAKE\n",
              "1       FAKE\n",
              "2       FAKE\n",
              "3       FAKE\n",
              "4       FAKE\n",
              "        ... \n",
              "1159    TRUE\n",
              "1160    TRUE\n",
              "1161    TRUE\n",
              "1162    TRUE\n",
              "1163    TRUE\n",
              "Name: label, Length: 1164, dtype: object"
            ]
          },
          "metadata": {
            "tags": []
          },
          "execution_count": 19
        }
      ]
    },
    {
      "cell_type": "code",
      "metadata": {
        "id": "QlL1kHlE32D2",
        "colab_type": "code",
        "colab": {},
        "outputId": "f90f58c6-8b66-4fd7-9c7d-93159bbcb766"
      },
      "source": [
        "data_trial.drop(\"label\", axis=1,inplace=True)\n",
        "data_trial.head(10) "
      ],
      "execution_count": null,
      "outputs": [
        {
          "output_type": "execute_result",
          "data": {
            "text/html": [
              "<div>\n",
              "<style scoped>\n",
              "    .dataframe tbody tr th:only-of-type {\n",
              "        vertical-align: middle;\n",
              "    }\n",
              "\n",
              "    .dataframe tbody tr th {\n",
              "        vertical-align: top;\n",
              "    }\n",
              "\n",
              "    .dataframe thead th {\n",
              "        text-align: right;\n",
              "    }\n",
              "</style>\n",
              "<table border=\"1\" class=\"dataframe\">\n",
              "  <thead>\n",
              "    <tr style=\"text-align: right;\">\n",
              "      <th></th>\n",
              "      <th>title</th>\n",
              "      <th>text</th>\n",
              "      <th>source</th>\n",
              "      <th>total</th>\n",
              "    </tr>\n",
              "  </thead>\n",
              "  <tbody>\n",
              "    <tr>\n",
              "      <th>0</th>\n",
              "      <td>Due to the recent outbreak for the Coronavirus...</td>\n",
              "      <td>You just need to add water, and the drugs and ...</td>\n",
              "      <td>coronavirusmedicalkit.com</td>\n",
              "      <td>you just need to add water and the drugs and v...</td>\n",
              "    </tr>\n",
              "    <tr>\n",
              "      <th>1</th>\n",
              "      <td></td>\n",
              "      <td>Hydroxychloroquine has been shown to have a 10...</td>\n",
              "      <td>RudyGiuliani</td>\n",
              "      <td>hydroxychloroquine has been shown to have a 10...</td>\n",
              "    </tr>\n",
              "    <tr>\n",
              "      <th>2</th>\n",
              "      <td></td>\n",
              "      <td>Fact: Hydroxychloroquine has been shown to hav...</td>\n",
              "      <td>CharlieKirk</td>\n",
              "      <td>fact hydroxychloroquine has been shown to have...</td>\n",
              "    </tr>\n",
              "    <tr>\n",
              "      <th>3</th>\n",
              "      <td></td>\n",
              "      <td>The Corona virus is a man made virus created i...</td>\n",
              "      <td>JoanneWrightForCongress</td>\n",
              "      <td>the corona virus is a man made virus created i...</td>\n",
              "    </tr>\n",
              "    <tr>\n",
              "      <th>4</th>\n",
              "      <td></td>\n",
              "      <td>Doesn’t @BillGates finance research at the Wuh...</td>\n",
              "      <td>JoanneWrightForCongress</td>\n",
              "      <td>doesnt billgates finance research at the wuhan...</td>\n",
              "    </tr>\n",
              "    <tr>\n",
              "      <th>5</th>\n",
              "      <td>CORONA UNMASKED: Chinese Intelligence Officer ...</td>\n",
              "      <td></td>\n",
              "      <td></td>\n",
              "      <td>corona unmasked chinese intelligence officer...</td>\n",
              "    </tr>\n",
              "    <tr>\n",
              "      <th>6</th>\n",
              "      <td></td>\n",
              "      <td>Urgent: Health Bulletin to the Public. Ministr...</td>\n",
              "      <td>Ministry of Health</td>\n",
              "      <td>urgent health bulletin to the public ministry ...</td>\n",
              "    </tr>\n",
              "    <tr>\n",
              "      <th>7</th>\n",
              "      <td></td>\n",
              "      <td>Pls tell ur families, relatives and friendsMOH...</td>\n",
              "      <td>NWLLAB</td>\n",
              "      <td>pls tell ur families relatives and friendsmoh ...</td>\n",
              "    </tr>\n",
              "    <tr>\n",
              "      <th>8</th>\n",
              "      <td></td>\n",
              "      <td>SERIOUS EXCELLENT ADVICE by Japanese doctors t...</td>\n",
              "      <td>Japanese doctors treating COVID-19 cases</td>\n",
              "      <td>serious excellent advice by japanese doctors t...</td>\n",
              "    </tr>\n",
              "    <tr>\n",
              "      <th>9</th>\n",
              "      <td>Basic protective measures against the new coro...</td>\n",
              "      <td>Stay aware of the latest information on the CO...</td>\n",
              "      <td>https://www.who.int/emergencies/diseases/novel...</td>\n",
              "      <td>stay aware of the latest information on the co...</td>\n",
              "    </tr>\n",
              "  </tbody>\n",
              "</table>\n",
              "</div>"
            ],
            "text/plain": [
              "                                               title  \\\n",
              "0  Due to the recent outbreak for the Coronavirus...   \n",
              "1                                                      \n",
              "2                                                      \n",
              "3                                                      \n",
              "4                                                      \n",
              "5  CORONA UNMASKED: Chinese Intelligence Officer ...   \n",
              "6                                                      \n",
              "7                                                      \n",
              "8                                                      \n",
              "9  Basic protective measures against the new coro...   \n",
              "\n",
              "                                                text  \\\n",
              "0  You just need to add water, and the drugs and ...   \n",
              "1  Hydroxychloroquine has been shown to have a 10...   \n",
              "2  Fact: Hydroxychloroquine has been shown to hav...   \n",
              "3  The Corona virus is a man made virus created i...   \n",
              "4  Doesn’t @BillGates finance research at the Wuh...   \n",
              "5                                                      \n",
              "6  Urgent: Health Bulletin to the Public. Ministr...   \n",
              "7  Pls tell ur families, relatives and friendsMOH...   \n",
              "8  SERIOUS EXCELLENT ADVICE by Japanese doctors t...   \n",
              "9  Stay aware of the latest information on the CO...   \n",
              "\n",
              "                                              source  \\\n",
              "0                          coronavirusmedicalkit.com   \n",
              "1                                       RudyGiuliani   \n",
              "2                                        CharlieKirk   \n",
              "3                            JoanneWrightForCongress   \n",
              "4                            JoanneWrightForCongress   \n",
              "5                                                      \n",
              "6                                 Ministry of Health   \n",
              "7                                             NWLLAB   \n",
              "8           Japanese doctors treating COVID-19 cases   \n",
              "9  https://www.who.int/emergencies/diseases/novel...   \n",
              "\n",
              "                                               total  \n",
              "0  you just need to add water and the drugs and v...  \n",
              "1  hydroxychloroquine has been shown to have a 10...  \n",
              "2  fact hydroxychloroquine has been shown to have...  \n",
              "3  the corona virus is a man made virus created i...  \n",
              "4  doesnt billgates finance research at the wuhan...  \n",
              "5    corona unmasked chinese intelligence officer...  \n",
              "6  urgent health bulletin to the public ministry ...  \n",
              "7  pls tell ur families relatives and friendsmoh ...  \n",
              "8  serious excellent advice by japanese doctors t...  \n",
              "9  stay aware of the latest information on the co...  "
            ]
          },
          "metadata": {
            "tags": []
          },
          "execution_count": 20
        }
      ]
    },
    {
      "cell_type": "code",
      "metadata": {
        "id": "GF35g-fF32D_",
        "colab_type": "code",
        "colab": {},
        "outputId": "0d088849-81dd-49e1-be68-2ebd9257fce3"
      },
      "source": [
        "X_train, X_test, y_train, y_test = train_test_split(data_trial['total'], y, test_size=0.2,random_state=102)\n",
        "print(X_train.shape,y_train.shape)\n",
        "print(X_test.shape,y_test.shape)"
      ],
      "execution_count": null,
      "outputs": [
        {
          "output_type": "stream",
          "text": [
            "(931,) (931,)\n",
            "(233,) (233,)\n"
          ],
          "name": "stdout"
        }
      ]
    },
    {
      "cell_type": "code",
      "metadata": {
        "id": "5HptPeJI32EE",
        "colab_type": "code",
        "colab": {},
        "outputId": "608fd309-2336-42e7-a6bc-08bccc6edeaf"
      },
      "source": [
        "X_train.head()"
      ],
      "execution_count": null,
      "outputs": [
        {
          "output_type": "execute_result",
          "data": {
            "text/plain": [
              "882     viruses cannot travel on radio wavesmobile net...\n",
              "1053    population reduction is among the goals of the...\n",
              "404     so bill gates is launching implantable chips t...\n",
              "502     this video shows why big telecom loves coronav...\n",
              "68      the coronavirus is a highly infectious disease...\n",
              "Name: total, dtype: object"
            ]
          },
          "metadata": {
            "tags": []
          },
          "execution_count": 22
        }
      ]
    },
    {
      "cell_type": "markdown",
      "metadata": {
        "id": "eh3vlboY32EH",
        "colab_type": "text"
      },
      "source": [
        "## Cleaning Data using NLP Techniques"
      ]
    },
    {
      "cell_type": "code",
      "metadata": {
        "id": "QOvPHErY32EI",
        "colab_type": "code",
        "colab": {}
      },
      "source": [
        "tfidf_vectorizer = TfidfVectorizer(stop_words='english', max_df=0.80)  \n",
        "tfidf_train = tfidf_vectorizer.fit_transform(X_train) \n",
        "tfidf_test = tfidf_vectorizer.transform(X_test)"
      ],
      "execution_count": null,
      "outputs": []
    },
    {
      "cell_type": "markdown",
      "metadata": {
        "id": "r9zxuTR-32EN",
        "colab_type": "text"
      },
      "source": [
        "## Classification Algorithms"
      ]
    },
    {
      "cell_type": "markdown",
      "metadata": {
        "id": "8EFzQZ5b32EO",
        "colab_type": "text"
      },
      "source": [
        "### Logistic Regression"
      ]
    },
    {
      "cell_type": "code",
      "metadata": {
        "id": "N1Q0ClPy32EP",
        "colab_type": "code",
        "colab": {},
        "outputId": "68dc7222-4661-4266-e38c-a15ee9246c22"
      },
      "source": [
        "logreg = LogisticRegressionCV(cv=5, scoring='accuracy', random_state=0, n_jobs=-1, verbose=3, max_iter=300).fit(tfidf_train, y_train)"
      ],
      "execution_count": null,
      "outputs": [
        {
          "output_type": "stream",
          "text": [
            "[Parallel(n_jobs=-1)]: Using backend LokyBackend with 12 concurrent workers.\n",
            "[Parallel(n_jobs=-1)]: Done   2 out of   5 | elapsed:  1.5min remaining:  2.3min\n",
            "[Parallel(n_jobs=-1)]: Done   5 out of   5 | elapsed:  1.6min finished\n"
          ],
          "name": "stderr"
        }
      ]
    },
    {
      "cell_type": "code",
      "metadata": {
        "id": "DQz3XqcG32EW",
        "colab_type": "code",
        "colab": {},
        "outputId": "dbc2c18a-b1a0-42d4-f561-78695b1ca304"
      },
      "source": [
        "pred = logreg.predict(tfidf_test)\n",
        "print('Accuracy of Logistic classifier on test set:',accuracy_score(y_test, pred))"
      ],
      "execution_count": null,
      "outputs": [
        {
          "output_type": "stream",
          "text": [
            "Accuracy of Logistic classifier on test set: 0.9399141630901288\n"
          ],
          "name": "stdout"
        }
      ]
    },
    {
      "cell_type": "code",
      "metadata": {
        "id": "a0tQ6e7J32Ee",
        "colab_type": "code",
        "colab": {},
        "outputId": "50b95fb7-d7aa-404e-a167-6ee856e6b63f"
      },
      "source": [
        "results1=confusion_matrix(y_test, pred)\n",
        "print(results1)"
      ],
      "execution_count": null,
      "outputs": [
        {
          "output_type": "stream",
          "text": [
            "[[118   8]\n",
            " [  6 101]]\n"
          ],
          "name": "stdout"
        }
      ]
    },
    {
      "cell_type": "code",
      "metadata": {
        "id": "8MjZgVyk32Eq",
        "colab_type": "code",
        "colab": {},
        "outputId": "f77a7e2e-3b59-4ebe-c2d1-254637f6e438"
      },
      "source": [
        "print(classification_report(y_test,pred))"
      ],
      "execution_count": null,
      "outputs": [
        {
          "output_type": "stream",
          "text": [
            "              precision    recall  f1-score   support\n",
            "\n",
            "        FAKE       0.95      0.94      0.94       126\n",
            "        TRUE       0.93      0.94      0.94       107\n",
            "\n",
            "    accuracy                           0.94       233\n",
            "   macro avg       0.94      0.94      0.94       233\n",
            "weighted avg       0.94      0.94      0.94       233\n",
            "\n"
          ],
          "name": "stdout"
        }
      ]
    },
    {
      "cell_type": "code",
      "metadata": {
        "id": "zAzF4gKG32Ew",
        "colab_type": "code",
        "colab": {},
        "outputId": "06ff1758-503b-402a-c043-d51ebff170b2"
      },
      "source": [
        "precision0 = (results1[0][0]/(results1[0][1]+results1[0][0]))\n",
        "print('Precision=',precision0)\n",
        "\n",
        "recall0 = (results1[0][0]/(results1[1][0]+results1[0][0]))\n",
        "print('Recall=',recall0)"
      ],
      "execution_count": null,
      "outputs": [
        {
          "output_type": "stream",
          "text": [
            "Precision= 0.9365079365079365\n",
            "Recall= 0.9516129032258065\n"
          ],
          "name": "stdout"
        }
      ]
    },
    {
      "cell_type": "code",
      "metadata": {
        "id": "MtoEAGbu32E0",
        "colab_type": "code",
        "colab": {},
        "outputId": "5e525477-be31-4e7a-b2cd-128b33a83dfb"
      },
      "source": [
        "coefficients=logreg.coef_\n",
        "print(coefficients)"
      ],
      "execution_count": null,
      "outputs": [
        {
          "output_type": "stream",
          "text": [
            "[[ 4.30793651e+00 -2.03698191e-02  8.81305544e-04 ... -2.07244821e-01\n",
            "  -1.04643500e-01 -8.92310827e-01]]\n"
          ],
          "name": "stdout"
        }
      ]
    },
    {
      "cell_type": "markdown",
      "metadata": {
        "id": "QQTPduRU32E7",
        "colab_type": "text"
      },
      "source": [
        "### Saving Model via Pickle"
      ]
    },
    {
      "cell_type": "code",
      "metadata": {
        "id": "yFYrlFrS32E9",
        "colab_type": "code",
        "colab": {}
      },
      "source": [
        "logreg_model = open('logreg_model.sav', 'wb')\n",
        "pickle.dump(logreg, logreg_model)\n",
        "logreg_model.close()"
      ],
      "execution_count": null,
      "outputs": []
    },
    {
      "cell_type": "code",
      "metadata": {
        "id": "J3YV6C-F32FF",
        "colab_type": "code",
        "colab": {}
      },
      "source": [
        "filename = 'logreg_model.sav'\n",
        "saved_model = pickle.load(open(filename, 'rb'))"
      ],
      "execution_count": null,
      "outputs": []
    },
    {
      "cell_type": "code",
      "metadata": {
        "id": "64RRVpTd32FL",
        "colab_type": "code",
        "colab": {},
        "outputId": "b2ef4ec6-7b08-4526-e43c-991fe37fe468"
      },
      "source": [
        "saved_model.score(tfidf_test,y_test)"
      ],
      "execution_count": null,
      "outputs": [
        {
          "output_type": "execute_result",
          "data": {
            "text/plain": [
              "0.9399141630901288"
            ]
          },
          "metadata": {
            "tags": []
          },
          "execution_count": 79
        }
      ]
    }
  ]
}