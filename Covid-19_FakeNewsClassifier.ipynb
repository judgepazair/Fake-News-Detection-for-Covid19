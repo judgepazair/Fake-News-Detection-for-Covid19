{
 "cells": [
  {
   "cell_type": "code",
   "execution_count": 1,
   "metadata": {},
   "outputs": [],
   "source": [
    "import pandas as pd\n",
    "import os\n",
    "import numpy as np\n",
    "\n",
    "import re\n",
    "import nltk\n",
    "from nltk.corpus import stopwords\n",
    "from nltk.stem import WordNetLemmatizer\n",
    "\n",
    "from sklearn.feature_extraction.text import CountVectorizer\n",
    "from sklearn.feature_extraction.text import TfidfVectorizer\n",
    "from sklearn.feature_extraction.text import TfidfTransformer\n",
    "from sklearn import metrics\n",
    "from sklearn.metrics import confusion_matrix \n",
    "from sklearn.metrics import accuracy_score \n",
    "from sklearn.metrics import classification_report \n",
    "from sklearn.model_selection import train_test_split\n",
    "from sklearn.linear_model import LogisticRegression\n",
    "from sklearn.naive_bayes import MultinomialNB\n",
    "from sklearn import svm\n",
    "from sklearn.ensemble import RandomForestClassifier\n",
    "from sklearn.model_selection import cross_val_score, GridSearchCV\n",
    "from sklearn.linear_model import LogisticRegressionCV\n",
    "\n",
    "from sklearn.pipeline import Pipeline\n",
    "import joblib\n",
    "from sklearn import linear_model\n",
    "import pickle"
   ]
  },
  {
   "cell_type": "code",
   "execution_count": 2,
   "metadata": {},
   "outputs": [],
   "source": [
    "data=pd.read_csv('C:\\\\Users\\\\shaun\\\\OneDrive\\\\Desktop\\\\My_Files\\\\Codes\\\\Self Project 2\\\\Data_Set\\\\corona_fake.csv')"
   ]
  },
  {
   "cell_type": "code",
   "execution_count": 3,
   "metadata": {},
   "outputs": [
    {
     "data": {
      "text/html": [
       "<div>\n",
       "<style scoped>\n",
       "    .dataframe tbody tr th:only-of-type {\n",
       "        vertical-align: middle;\n",
       "    }\n",
       "\n",
       "    .dataframe tbody tr th {\n",
       "        vertical-align: top;\n",
       "    }\n",
       "\n",
       "    .dataframe thead th {\n",
       "        text-align: right;\n",
       "    }\n",
       "</style>\n",
       "<table border=\"1\" class=\"dataframe\">\n",
       "  <thead>\n",
       "    <tr style=\"text-align: right;\">\n",
       "      <th></th>\n",
       "      <th>title</th>\n",
       "      <th>text</th>\n",
       "      <th>source</th>\n",
       "      <th>label</th>\n",
       "    </tr>\n",
       "  </thead>\n",
       "  <tbody>\n",
       "    <tr>\n",
       "      <th>0</th>\n",
       "      <td>Due to the recent outbreak for the Coronavirus...</td>\n",
       "      <td>You just need to add water, and the drugs and ...</td>\n",
       "      <td>coronavirusmedicalkit.com</td>\n",
       "      <td>Fake</td>\n",
       "    </tr>\n",
       "    <tr>\n",
       "      <th>1</th>\n",
       "      <td>NaN</td>\n",
       "      <td>Hydroxychloroquine has been shown to have a 10...</td>\n",
       "      <td>RudyGiuliani</td>\n",
       "      <td>Fake</td>\n",
       "    </tr>\n",
       "    <tr>\n",
       "      <th>2</th>\n",
       "      <td>NaN</td>\n",
       "      <td>Fact: Hydroxychloroquine has been shown to hav...</td>\n",
       "      <td>CharlieKirk</td>\n",
       "      <td>Fake</td>\n",
       "    </tr>\n",
       "    <tr>\n",
       "      <th>3</th>\n",
       "      <td>NaN</td>\n",
       "      <td>The Corona virus is a man made virus created i...</td>\n",
       "      <td>JoanneWrightForCongress</td>\n",
       "      <td>Fake</td>\n",
       "    </tr>\n",
       "    <tr>\n",
       "      <th>4</th>\n",
       "      <td>NaN</td>\n",
       "      <td>Doesn’t @BillGates finance research at the Wuh...</td>\n",
       "      <td>JoanneWrightForCongress</td>\n",
       "      <td>Fake</td>\n",
       "    </tr>\n",
       "    <tr>\n",
       "      <th>...</th>\n",
       "      <td>...</td>\n",
       "      <td>...</td>\n",
       "      <td>...</td>\n",
       "      <td>...</td>\n",
       "    </tr>\n",
       "    <tr>\n",
       "      <th>1159</th>\n",
       "      <td>Could the Power of the Sun Slow the Coronavirus?</td>\n",
       "      <td>A study suggests that ultraviolet rays could s...</td>\n",
       "      <td>https://www.nytimes.com/</td>\n",
       "      <td>TRUE</td>\n",
       "    </tr>\n",
       "    <tr>\n",
       "      <th>1160</th>\n",
       "      <td>Key evidence for coronavirus spread is flawed ...</td>\n",
       "      <td>Last week, a medical journal reported that a b...</td>\n",
       "      <td>https://www.nytimes.com/</td>\n",
       "      <td>TRUE</td>\n",
       "    </tr>\n",
       "    <tr>\n",
       "      <th>1161</th>\n",
       "      <td>Summer Heat May Not Diminish Coronavirus Strength</td>\n",
       "      <td>A new report, sent to the White House science ...</td>\n",
       "      <td>https://www.nytimes.com/</td>\n",
       "      <td>TRUE</td>\n",
       "    </tr>\n",
       "    <tr>\n",
       "      <th>1162</th>\n",
       "      <td>How Long Will a Vaccine Really Take?</td>\n",
       "      <td>A vaccine would be the ultimate weapon against...</td>\n",
       "      <td>https://www.nytimes.com/</td>\n",
       "      <td>TRUE</td>\n",
       "    </tr>\n",
       "    <tr>\n",
       "      <th>1163</th>\n",
       "      <td>Why Funding the Covid-19 Response Could Be the...</td>\n",
       "      <td>Developing and delivering coronavirus vaccines...</td>\n",
       "      <td>https://www.nytimes.com/</td>\n",
       "      <td>TRUE</td>\n",
       "    </tr>\n",
       "  </tbody>\n",
       "</table>\n",
       "<p>1164 rows × 4 columns</p>\n",
       "</div>"
      ],
      "text/plain": [
       "                                                  title  \\\n",
       "0     Due to the recent outbreak for the Coronavirus...   \n",
       "1                                                   NaN   \n",
       "2                                                   NaN   \n",
       "3                                                   NaN   \n",
       "4                                                   NaN   \n",
       "...                                                 ...   \n",
       "1159   Could the Power of the Sun Slow the Coronavirus?   \n",
       "1160  Key evidence for coronavirus spread is flawed ...   \n",
       "1161  Summer Heat May Not Diminish Coronavirus Strength   \n",
       "1162               How Long Will a Vaccine Really Take?   \n",
       "1163  Why Funding the Covid-19 Response Could Be the...   \n",
       "\n",
       "                                                   text  \\\n",
       "0     You just need to add water, and the drugs and ...   \n",
       "1     Hydroxychloroquine has been shown to have a 10...   \n",
       "2     Fact: Hydroxychloroquine has been shown to hav...   \n",
       "3     The Corona virus is a man made virus created i...   \n",
       "4     Doesn’t @BillGates finance research at the Wuh...   \n",
       "...                                                 ...   \n",
       "1159  A study suggests that ultraviolet rays could s...   \n",
       "1160  Last week, a medical journal reported that a b...   \n",
       "1161  A new report, sent to the White House science ...   \n",
       "1162  A vaccine would be the ultimate weapon against...   \n",
       "1163  Developing and delivering coronavirus vaccines...   \n",
       "\n",
       "                         source label  \n",
       "0     coronavirusmedicalkit.com  Fake  \n",
       "1                  RudyGiuliani  Fake  \n",
       "2                   CharlieKirk  Fake  \n",
       "3       JoanneWrightForCongress  Fake  \n",
       "4       JoanneWrightForCongress  Fake  \n",
       "...                         ...   ...  \n",
       "1159   https://www.nytimes.com/  TRUE  \n",
       "1160   https://www.nytimes.com/  TRUE  \n",
       "1161   https://www.nytimes.com/  TRUE  \n",
       "1162   https://www.nytimes.com/  TRUE  \n",
       "1163   https://www.nytimes.com/  TRUE  \n",
       "\n",
       "[1164 rows x 4 columns]"
      ]
     },
     "execution_count": 3,
     "metadata": {},
     "output_type": "execute_result"
    }
   ],
   "source": [
    "data"
   ]
  },
  {
   "cell_type": "code",
   "execution_count": 4,
   "metadata": {},
   "outputs": [
    {
     "data": {
      "text/plain": [
       "TRUE    584\n",
       "Fake    345\n",
       "fake    230\n",
       "Name: label, dtype: int64"
      ]
     },
     "execution_count": 4,
     "metadata": {},
     "output_type": "execute_result"
    }
   ],
   "source": [
    "data['label'].value_counts()"
   ]
  },
  {
   "cell_type": "markdown",
   "metadata": {},
   "source": [
    "### Replacing Labels"
   ]
  },
  {
   "cell_type": "code",
   "execution_count": 5,
   "metadata": {},
   "outputs": [],
   "source": [
    "data[\"label\"]= data[\"label\"].str.replace(\"fake\", \"FAKE\", case = False) "
   ]
  },
  {
   "cell_type": "code",
   "execution_count": 6,
   "metadata": {},
   "outputs": [],
   "source": [
    "data[\"label\"]= data[\"label\"].str.replace(\"Fake\", \"FAKE\", case = False) "
   ]
  },
  {
   "cell_type": "code",
   "execution_count": 7,
   "metadata": {},
   "outputs": [
    {
     "data": {
      "text/plain": [
       "TRUE    584\n",
       "FAKE    575\n",
       "Name: label, dtype: int64"
      ]
     },
     "execution_count": 7,
     "metadata": {},
     "output_type": "execute_result"
    }
   ],
   "source": [
    "data['label'].value_counts()"
   ]
  },
  {
   "cell_type": "markdown",
   "metadata": {},
   "source": [
    "### Filling Rows with Missing Labels"
   ]
  },
  {
   "cell_type": "code",
   "execution_count": 8,
   "metadata": {},
   "outputs": [
    {
     "name": "stdout",
     "output_type": "stream",
     "text": [
      "5\n",
      "15\n",
      "43\n",
      "131\n",
      "242\n"
     ]
    }
   ],
   "source": [
    "label_column=data['label'].isnull()\n",
    "label_column\n",
    "\n",
    "for i in range (1164):\n",
    "    if(label_column[i]==True):\n",
    "        print(i)\n",
    "########################################\n",
    "data.loc[5]['label'] = 'FAKE'\n",
    "data.loc[15]['label'] = 'TRUE'\n",
    "data.loc[43]['label'] = 'FAKE'\n",
    "data.loc[131]['label'] = 'TRUE'\n",
    "data.loc[242]['label'] = 'FAKE'"
   ]
  },
  {
   "cell_type": "markdown",
   "metadata": {},
   "source": [
    "# Testing Fake News Normal Algorithm"
   ]
  },
  {
   "cell_type": "code",
   "execution_count": 9,
   "metadata": {},
   "outputs": [
    {
     "data": {
      "text/html": [
       "<div>\n",
       "<style scoped>\n",
       "    .dataframe tbody tr th:only-of-type {\n",
       "        vertical-align: middle;\n",
       "    }\n",
       "\n",
       "    .dataframe tbody tr th {\n",
       "        vertical-align: top;\n",
       "    }\n",
       "\n",
       "    .dataframe thead th {\n",
       "        text-align: right;\n",
       "    }\n",
       "</style>\n",
       "<table border=\"1\" class=\"dataframe\">\n",
       "  <thead>\n",
       "    <tr style=\"text-align: right;\">\n",
       "      <th></th>\n",
       "      <th>title</th>\n",
       "      <th>text</th>\n",
       "      <th>source</th>\n",
       "      <th>label</th>\n",
       "    </tr>\n",
       "  </thead>\n",
       "  <tbody>\n",
       "    <tr>\n",
       "      <th>0</th>\n",
       "      <td>Due to the recent outbreak for the Coronavirus...</td>\n",
       "      <td>You just need to add water, and the drugs and ...</td>\n",
       "      <td>coronavirusmedicalkit.com</td>\n",
       "      <td>FAKE</td>\n",
       "    </tr>\n",
       "    <tr>\n",
       "      <th>1</th>\n",
       "      <td>NaN</td>\n",
       "      <td>Hydroxychloroquine has been shown to have a 10...</td>\n",
       "      <td>RudyGiuliani</td>\n",
       "      <td>FAKE</td>\n",
       "    </tr>\n",
       "    <tr>\n",
       "      <th>2</th>\n",
       "      <td>NaN</td>\n",
       "      <td>Fact: Hydroxychloroquine has been shown to hav...</td>\n",
       "      <td>CharlieKirk</td>\n",
       "      <td>FAKE</td>\n",
       "    </tr>\n",
       "    <tr>\n",
       "      <th>3</th>\n",
       "      <td>NaN</td>\n",
       "      <td>The Corona virus is a man made virus created i...</td>\n",
       "      <td>JoanneWrightForCongress</td>\n",
       "      <td>FAKE</td>\n",
       "    </tr>\n",
       "    <tr>\n",
       "      <th>4</th>\n",
       "      <td>NaN</td>\n",
       "      <td>Doesn’t @BillGates finance research at the Wuh...</td>\n",
       "      <td>JoanneWrightForCongress</td>\n",
       "      <td>FAKE</td>\n",
       "    </tr>\n",
       "  </tbody>\n",
       "</table>\n",
       "</div>"
      ],
      "text/plain": [
       "                                               title  \\\n",
       "0  Due to the recent outbreak for the Coronavirus...   \n",
       "1                                                NaN   \n",
       "2                                                NaN   \n",
       "3                                                NaN   \n",
       "4                                                NaN   \n",
       "\n",
       "                                                text  \\\n",
       "0  You just need to add water, and the drugs and ...   \n",
       "1  Hydroxychloroquine has been shown to have a 10...   \n",
       "2  Fact: Hydroxychloroquine has been shown to hav...   \n",
       "3  The Corona virus is a man made virus created i...   \n",
       "4  Doesn’t @BillGates finance research at the Wuh...   \n",
       "\n",
       "                      source label  \n",
       "0  coronavirusmedicalkit.com  FAKE  \n",
       "1               RudyGiuliani  FAKE  \n",
       "2                CharlieKirk  FAKE  \n",
       "3    JoanneWrightForCongress  FAKE  \n",
       "4    JoanneWrightForCongress  FAKE  "
      ]
     },
     "execution_count": 9,
     "metadata": {},
     "output_type": "execute_result"
    }
   ],
   "source": [
    "data_trial=data\n",
    "data_trial.head()"
   ]
  },
  {
   "cell_type": "code",
   "execution_count": 10,
   "metadata": {},
   "outputs": [
    {
     "data": {
      "text/plain": [
       "title     82\n",
       "text      10\n",
       "source    20\n",
       "label      0\n",
       "dtype: int64"
      ]
     },
     "execution_count": 10,
     "metadata": {},
     "output_type": "execute_result"
    }
   ],
   "source": [
    "data_trial.isnull().sum()"
   ]
  },
  {
   "cell_type": "code",
   "execution_count": 11,
   "metadata": {},
   "outputs": [
    {
     "name": "stdout",
     "output_type": "stream",
     "text": [
      "title     0\n",
      "text      0\n",
      "source    0\n",
      "label     0\n",
      "dtype: int64\n"
     ]
    }
   ],
   "source": [
    "data_trial=data_trial.fillna(' ')\n",
    "print(data_trial.isnull().sum())"
   ]
  },
  {
   "cell_type": "code",
   "execution_count": 12,
   "metadata": {},
   "outputs": [],
   "source": [
    "data_trial['total']=data_trial['text']+' '+data_trial['title']"
   ]
  },
  {
   "cell_type": "code",
   "execution_count": 13,
   "metadata": {},
   "outputs": [
    {
     "data": {
      "text/html": [
       "<div>\n",
       "<style scoped>\n",
       "    .dataframe tbody tr th:only-of-type {\n",
       "        vertical-align: middle;\n",
       "    }\n",
       "\n",
       "    .dataframe tbody tr th {\n",
       "        vertical-align: top;\n",
       "    }\n",
       "\n",
       "    .dataframe thead th {\n",
       "        text-align: right;\n",
       "    }\n",
       "</style>\n",
       "<table border=\"1\" class=\"dataframe\">\n",
       "  <thead>\n",
       "    <tr style=\"text-align: right;\">\n",
       "      <th></th>\n",
       "      <th>title</th>\n",
       "      <th>text</th>\n",
       "      <th>source</th>\n",
       "      <th>label</th>\n",
       "      <th>total</th>\n",
       "    </tr>\n",
       "  </thead>\n",
       "  <tbody>\n",
       "    <tr>\n",
       "      <th>0</th>\n",
       "      <td>Due to the recent outbreak for the Coronavirus...</td>\n",
       "      <td>You just need to add water, and the drugs and ...</td>\n",
       "      <td>coronavirusmedicalkit.com</td>\n",
       "      <td>FAKE</td>\n",
       "      <td>You just need to add water, and the drugs and ...</td>\n",
       "    </tr>\n",
       "    <tr>\n",
       "      <th>1</th>\n",
       "      <td></td>\n",
       "      <td>Hydroxychloroquine has been shown to have a 10...</td>\n",
       "      <td>RudyGiuliani</td>\n",
       "      <td>FAKE</td>\n",
       "      <td>Hydroxychloroquine has been shown to have a 10...</td>\n",
       "    </tr>\n",
       "    <tr>\n",
       "      <th>2</th>\n",
       "      <td></td>\n",
       "      <td>Fact: Hydroxychloroquine has been shown to hav...</td>\n",
       "      <td>CharlieKirk</td>\n",
       "      <td>FAKE</td>\n",
       "      <td>Fact: Hydroxychloroquine has been shown to hav...</td>\n",
       "    </tr>\n",
       "    <tr>\n",
       "      <th>3</th>\n",
       "      <td></td>\n",
       "      <td>The Corona virus is a man made virus created i...</td>\n",
       "      <td>JoanneWrightForCongress</td>\n",
       "      <td>FAKE</td>\n",
       "      <td>The Corona virus is a man made virus created i...</td>\n",
       "    </tr>\n",
       "    <tr>\n",
       "      <th>4</th>\n",
       "      <td></td>\n",
       "      <td>Doesn’t @BillGates finance research at the Wuh...</td>\n",
       "      <td>JoanneWrightForCongress</td>\n",
       "      <td>FAKE</td>\n",
       "      <td>Doesn’t @BillGates finance research at the Wuh...</td>\n",
       "    </tr>\n",
       "    <tr>\n",
       "      <th>5</th>\n",
       "      <td>CORONA UNMASKED: Chinese Intelligence Officer ...</td>\n",
       "      <td></td>\n",
       "      <td></td>\n",
       "      <td>FAKE</td>\n",
       "      <td>CORONA UNMASKED: Chinese Intelligence Office...</td>\n",
       "    </tr>\n",
       "    <tr>\n",
       "      <th>6</th>\n",
       "      <td></td>\n",
       "      <td>Urgent: Health Bulletin to the Public. Ministr...</td>\n",
       "      <td>Ministry of Health</td>\n",
       "      <td>FAKE</td>\n",
       "      <td>Urgent: Health Bulletin to the Public. Ministr...</td>\n",
       "    </tr>\n",
       "    <tr>\n",
       "      <th>7</th>\n",
       "      <td></td>\n",
       "      <td>Pls tell ur families, relatives and friendsMOH...</td>\n",
       "      <td>NWLLAB</td>\n",
       "      <td>FAKE</td>\n",
       "      <td>Pls tell ur families, relatives and friendsMOH...</td>\n",
       "    </tr>\n",
       "    <tr>\n",
       "      <th>8</th>\n",
       "      <td></td>\n",
       "      <td>SERIOUS EXCELLENT ADVICE by Japanese doctors t...</td>\n",
       "      <td>Japanese doctors treating COVID-19 cases</td>\n",
       "      <td>FAKE</td>\n",
       "      <td>SERIOUS EXCELLENT ADVICE by Japanese doctors t...</td>\n",
       "    </tr>\n",
       "    <tr>\n",
       "      <th>9</th>\n",
       "      <td>Basic protective measures against the new coro...</td>\n",
       "      <td>Stay aware of the latest information on the CO...</td>\n",
       "      <td>https://www.who.int/emergencies/diseases/novel...</td>\n",
       "      <td>TRUE</td>\n",
       "      <td>Stay aware of the latest information on the CO...</td>\n",
       "    </tr>\n",
       "  </tbody>\n",
       "</table>\n",
       "</div>"
      ],
      "text/plain": [
       "                                               title  \\\n",
       "0  Due to the recent outbreak for the Coronavirus...   \n",
       "1                                                      \n",
       "2                                                      \n",
       "3                                                      \n",
       "4                                                      \n",
       "5  CORONA UNMASKED: Chinese Intelligence Officer ...   \n",
       "6                                                      \n",
       "7                                                      \n",
       "8                                                      \n",
       "9  Basic protective measures against the new coro...   \n",
       "\n",
       "                                                text  \\\n",
       "0  You just need to add water, and the drugs and ...   \n",
       "1  Hydroxychloroquine has been shown to have a 10...   \n",
       "2  Fact: Hydroxychloroquine has been shown to hav...   \n",
       "3  The Corona virus is a man made virus created i...   \n",
       "4  Doesn’t @BillGates finance research at the Wuh...   \n",
       "5                                                      \n",
       "6  Urgent: Health Bulletin to the Public. Ministr...   \n",
       "7  Pls tell ur families, relatives and friendsMOH...   \n",
       "8  SERIOUS EXCELLENT ADVICE by Japanese doctors t...   \n",
       "9  Stay aware of the latest information on the CO...   \n",
       "\n",
       "                                              source label  \\\n",
       "0                          coronavirusmedicalkit.com  FAKE   \n",
       "1                                       RudyGiuliani  FAKE   \n",
       "2                                        CharlieKirk  FAKE   \n",
       "3                            JoanneWrightForCongress  FAKE   \n",
       "4                            JoanneWrightForCongress  FAKE   \n",
       "5                                                     FAKE   \n",
       "6                                 Ministry of Health  FAKE   \n",
       "7                                             NWLLAB  FAKE   \n",
       "8           Japanese doctors treating COVID-19 cases  FAKE   \n",
       "9  https://www.who.int/emergencies/diseases/novel...  TRUE   \n",
       "\n",
       "                                               total  \n",
       "0  You just need to add water, and the drugs and ...  \n",
       "1  Hydroxychloroquine has been shown to have a 10...  \n",
       "2  Fact: Hydroxychloroquine has been shown to hav...  \n",
       "3  The Corona virus is a man made virus created i...  \n",
       "4  Doesn’t @BillGates finance research at the Wuh...  \n",
       "5    CORONA UNMASKED: Chinese Intelligence Office...  \n",
       "6  Urgent: Health Bulletin to the Public. Ministr...  \n",
       "7  Pls tell ur families, relatives and friendsMOH...  \n",
       "8  SERIOUS EXCELLENT ADVICE by Japanese doctors t...  \n",
       "9  Stay aware of the latest information on the CO...  "
      ]
     },
     "execution_count": 13,
     "metadata": {},
     "output_type": "execute_result"
    }
   ],
   "source": [
    "data_trial.head(10)"
   ]
  },
  {
   "cell_type": "code",
   "execution_count": 14,
   "metadata": {},
   "outputs": [],
   "source": [
    "#trial=data_trial['total'][0]\n",
    "#trial=re.sub('[^\\w\\s]','',trial)\n",
    "#trial=trial.lower()\n",
    "#trial"
   ]
  },
  {
   "cell_type": "code",
   "execution_count": 15,
   "metadata": {},
   "outputs": [],
   "source": [
    "#pred=tfidf_vectorizer.transform(trial) "
   ]
  },
  {
   "cell_type": "code",
   "execution_count": 16,
   "metadata": {},
   "outputs": [],
   "source": [
    "data_trial['total'] = data_trial['total'].str.replace('[^\\w\\s]','')\n",
    "data_trial['total'] = data_trial['total'].str.lower()"
   ]
  },
  {
   "cell_type": "code",
   "execution_count": 17,
   "metadata": {},
   "outputs": [
    {
     "data": {
      "text/plain": [
       "'you just need to add water and the drugs and vaccines are ready to be administered there are two parts to the kit one holds pellets containing the chemical machinery that synthesises the end product and the other holds pellets containing instructions that telll the drug which compound to create mix two parts together in a chosen combination add water and the treatment is ready due to the recent outbreak for the coronavirus covid19 the world health organization is giving away vaccine kits just pay 495 for shipping'"
      ]
     },
     "execution_count": 17,
     "metadata": {},
     "output_type": "execute_result"
    }
   ],
   "source": [
    "data_trial['total'][0]"
   ]
  },
  {
   "cell_type": "code",
   "execution_count": 18,
   "metadata": {},
   "outputs": [
    {
     "data": {
      "text/plain": [
       "'the covid2019 epidemic which began in the chinese city of wuhan managed to get out of china and spread throughout the world in two months in midmarch an article became popular in social networks according to which a dangerous strain was artificially created as part of a study of bat coronavirus by american scientists the scientific work was written by a team of biologists back in 2015 on november 9 of the same year it was published on the scientific portal nature  researchers studied the shco14 virus found in chinese horseshoe bats scientists combined this strain with another  its name is sars and it causes a severe acute respiratory syndrome or sars further the researchers generated and characterized a chimeric virus that can  multiply in the primary cells of the human respiratory tract in other words biologists altered the coronavirus of bats so much that they got a strain that could infect a person  and the virus would cause severe pneumonia in him among the authors of the article are listed as researchers at the university of north carolina usa and the wuhan virology institute china in 2020 users of social networks read the old scientific material and they had suspicions about who is behind the covid2019 epidemic if some people having read the article decided to share with subscribers the very fact of its existence then others are already building theories they are sure the coronavirus epidemic is the work of the us government and one of the goals of this diversion was to strike at its own citizens on russianlanguage twitter they also looked at the results of a study by scientists willy wilmer a german lawyer and politician really believes that the coronavirus was brought to china by infected american soldiers who arrived in the country for sporting events people agree with his version and are ready to blame the united states for thousands of deaths some users are sure that there are only two countries that will repel the united states in the situation with coronavirus although they do not yet say how they will do it and someone was not at all surprised that the united states was considered the culprit of the pandemic the comments did not answer the question however a military event was indeed held in china the world war games were held in wuhan at the end of october 2019 probably willy wimmer referred to them at least a former member of the un commission on biological and chemical weapons igor nikulin  interpreted the assumption of the german politician exactly and completely agree with him both politicians came to such conclusions not without reason these thoughts were prompted by the representative of the ministry of foreign affairs of china zhao lijian who also believes that covid2019 was brought into his country by the us military users who commented on a post about willy wimmers words and laboratory research in north carolina 2015 are sure that americans are really to blame for everything  and only because of their attitude to the rest of the world but it was not difficult for other users to guess which television channel most commentators prefer to watch and another commentator suggested that the reason for such hatred of people towards the usa is the refusal of medicines another commentator who learned about the experiments in the laboratory of north carolina easily believed in the guilt of the states and even suggested what to do with this country the news that the coronavirus reached the united states this person is very happy but there is an assumption that the united states came up with a coronavirus not only for china but also for other countries for each nationality  its own separate strain in fact while the virus supposedly created in 2015 is being discussed only by politicians and scientists far from laboratories until now specialists in the region have not published the results of comparisons of strains even before people learned about research in the north carolina laboratory they were building theories about where the coronavirus came from and there was nothing to do with natural causes in their research the main suspects were god putin and the marxist revolutionaries there are other considerations in this regard before the coronavirus spread around the world and caused a pandemic users of social networks began to speculate about who was behind it bill gates and his wife came under fire from conspiracy theorists  people learned about the coronavirus created in the us laboratory in 2015 they decided a pandemic is no coincidence'"
      ]
     },
     "execution_count": 18,
     "metadata": {},
     "output_type": "execute_result"
    }
   ],
   "source": [
    "data_trial['total'][45]"
   ]
  },
  {
   "cell_type": "markdown",
   "metadata": {},
   "source": [
    "## Train Test Split"
   ]
  },
  {
   "cell_type": "code",
   "execution_count": 19,
   "metadata": {},
   "outputs": [
    {
     "data": {
      "text/plain": [
       "0       FAKE\n",
       "1       FAKE\n",
       "2       FAKE\n",
       "3       FAKE\n",
       "4       FAKE\n",
       "        ... \n",
       "1159    TRUE\n",
       "1160    TRUE\n",
       "1161    TRUE\n",
       "1162    TRUE\n",
       "1163    TRUE\n",
       "Name: label, Length: 1164, dtype: object"
      ]
     },
     "execution_count": 19,
     "metadata": {},
     "output_type": "execute_result"
    }
   ],
   "source": [
    "y=data_trial.label\n",
    "y"
   ]
  },
  {
   "cell_type": "code",
   "execution_count": 20,
   "metadata": {},
   "outputs": [
    {
     "data": {
      "text/html": [
       "<div>\n",
       "<style scoped>\n",
       "    .dataframe tbody tr th:only-of-type {\n",
       "        vertical-align: middle;\n",
       "    }\n",
       "\n",
       "    .dataframe tbody tr th {\n",
       "        vertical-align: top;\n",
       "    }\n",
       "\n",
       "    .dataframe thead th {\n",
       "        text-align: right;\n",
       "    }\n",
       "</style>\n",
       "<table border=\"1\" class=\"dataframe\">\n",
       "  <thead>\n",
       "    <tr style=\"text-align: right;\">\n",
       "      <th></th>\n",
       "      <th>title</th>\n",
       "      <th>text</th>\n",
       "      <th>source</th>\n",
       "      <th>total</th>\n",
       "    </tr>\n",
       "  </thead>\n",
       "  <tbody>\n",
       "    <tr>\n",
       "      <th>0</th>\n",
       "      <td>Due to the recent outbreak for the Coronavirus...</td>\n",
       "      <td>You just need to add water, and the drugs and ...</td>\n",
       "      <td>coronavirusmedicalkit.com</td>\n",
       "      <td>you just need to add water and the drugs and v...</td>\n",
       "    </tr>\n",
       "    <tr>\n",
       "      <th>1</th>\n",
       "      <td></td>\n",
       "      <td>Hydroxychloroquine has been shown to have a 10...</td>\n",
       "      <td>RudyGiuliani</td>\n",
       "      <td>hydroxychloroquine has been shown to have a 10...</td>\n",
       "    </tr>\n",
       "    <tr>\n",
       "      <th>2</th>\n",
       "      <td></td>\n",
       "      <td>Fact: Hydroxychloroquine has been shown to hav...</td>\n",
       "      <td>CharlieKirk</td>\n",
       "      <td>fact hydroxychloroquine has been shown to have...</td>\n",
       "    </tr>\n",
       "    <tr>\n",
       "      <th>3</th>\n",
       "      <td></td>\n",
       "      <td>The Corona virus is a man made virus created i...</td>\n",
       "      <td>JoanneWrightForCongress</td>\n",
       "      <td>the corona virus is a man made virus created i...</td>\n",
       "    </tr>\n",
       "    <tr>\n",
       "      <th>4</th>\n",
       "      <td></td>\n",
       "      <td>Doesn’t @BillGates finance research at the Wuh...</td>\n",
       "      <td>JoanneWrightForCongress</td>\n",
       "      <td>doesnt billgates finance research at the wuhan...</td>\n",
       "    </tr>\n",
       "    <tr>\n",
       "      <th>5</th>\n",
       "      <td>CORONA UNMASKED: Chinese Intelligence Officer ...</td>\n",
       "      <td></td>\n",
       "      <td></td>\n",
       "      <td>corona unmasked chinese intelligence officer...</td>\n",
       "    </tr>\n",
       "    <tr>\n",
       "      <th>6</th>\n",
       "      <td></td>\n",
       "      <td>Urgent: Health Bulletin to the Public. Ministr...</td>\n",
       "      <td>Ministry of Health</td>\n",
       "      <td>urgent health bulletin to the public ministry ...</td>\n",
       "    </tr>\n",
       "    <tr>\n",
       "      <th>7</th>\n",
       "      <td></td>\n",
       "      <td>Pls tell ur families, relatives and friendsMOH...</td>\n",
       "      <td>NWLLAB</td>\n",
       "      <td>pls tell ur families relatives and friendsmoh ...</td>\n",
       "    </tr>\n",
       "    <tr>\n",
       "      <th>8</th>\n",
       "      <td></td>\n",
       "      <td>SERIOUS EXCELLENT ADVICE by Japanese doctors t...</td>\n",
       "      <td>Japanese doctors treating COVID-19 cases</td>\n",
       "      <td>serious excellent advice by japanese doctors t...</td>\n",
       "    </tr>\n",
       "    <tr>\n",
       "      <th>9</th>\n",
       "      <td>Basic protective measures against the new coro...</td>\n",
       "      <td>Stay aware of the latest information on the CO...</td>\n",
       "      <td>https://www.who.int/emergencies/diseases/novel...</td>\n",
       "      <td>stay aware of the latest information on the co...</td>\n",
       "    </tr>\n",
       "  </tbody>\n",
       "</table>\n",
       "</div>"
      ],
      "text/plain": [
       "                                               title  \\\n",
       "0  Due to the recent outbreak for the Coronavirus...   \n",
       "1                                                      \n",
       "2                                                      \n",
       "3                                                      \n",
       "4                                                      \n",
       "5  CORONA UNMASKED: Chinese Intelligence Officer ...   \n",
       "6                                                      \n",
       "7                                                      \n",
       "8                                                      \n",
       "9  Basic protective measures against the new coro...   \n",
       "\n",
       "                                                text  \\\n",
       "0  You just need to add water, and the drugs and ...   \n",
       "1  Hydroxychloroquine has been shown to have a 10...   \n",
       "2  Fact: Hydroxychloroquine has been shown to hav...   \n",
       "3  The Corona virus is a man made virus created i...   \n",
       "4  Doesn’t @BillGates finance research at the Wuh...   \n",
       "5                                                      \n",
       "6  Urgent: Health Bulletin to the Public. Ministr...   \n",
       "7  Pls tell ur families, relatives and friendsMOH...   \n",
       "8  SERIOUS EXCELLENT ADVICE by Japanese doctors t...   \n",
       "9  Stay aware of the latest information on the CO...   \n",
       "\n",
       "                                              source  \\\n",
       "0                          coronavirusmedicalkit.com   \n",
       "1                                       RudyGiuliani   \n",
       "2                                        CharlieKirk   \n",
       "3                            JoanneWrightForCongress   \n",
       "4                            JoanneWrightForCongress   \n",
       "5                                                      \n",
       "6                                 Ministry of Health   \n",
       "7                                             NWLLAB   \n",
       "8           Japanese doctors treating COVID-19 cases   \n",
       "9  https://www.who.int/emergencies/diseases/novel...   \n",
       "\n",
       "                                               total  \n",
       "0  you just need to add water and the drugs and v...  \n",
       "1  hydroxychloroquine has been shown to have a 10...  \n",
       "2  fact hydroxychloroquine has been shown to have...  \n",
       "3  the corona virus is a man made virus created i...  \n",
       "4  doesnt billgates finance research at the wuhan...  \n",
       "5    corona unmasked chinese intelligence officer...  \n",
       "6  urgent health bulletin to the public ministry ...  \n",
       "7  pls tell ur families relatives and friendsmoh ...  \n",
       "8  serious excellent advice by japanese doctors t...  \n",
       "9  stay aware of the latest information on the co...  "
      ]
     },
     "execution_count": 20,
     "metadata": {},
     "output_type": "execute_result"
    }
   ],
   "source": [
    "data_trial.drop(\"label\", axis=1,inplace=True)\n",
    "data_trial.head(10) "
   ]
  },
  {
   "cell_type": "code",
   "execution_count": 21,
   "metadata": {},
   "outputs": [
    {
     "name": "stdout",
     "output_type": "stream",
     "text": [
      "(931,) (931,)\n",
      "(233,) (233,)\n"
     ]
    }
   ],
   "source": [
    "X_train, X_test, y_train, y_test = train_test_split(data_trial['total'], y, test_size=0.2,random_state=102)\n",
    "print(X_train.shape,y_train.shape)\n",
    "print(X_test.shape,y_test.shape)"
   ]
  },
  {
   "cell_type": "code",
   "execution_count": 22,
   "metadata": {},
   "outputs": [
    {
     "data": {
      "text/plain": [
       "882     viruses cannot travel on radio wavesmobile net...\n",
       "1053    population reduction is among the goals of the...\n",
       "404     so bill gates is launching implantable chips t...\n",
       "502     this video shows why big telecom loves coronav...\n",
       "68      the coronavirus is a highly infectious disease...\n",
       "Name: total, dtype: object"
      ]
     },
     "execution_count": 22,
     "metadata": {},
     "output_type": "execute_result"
    }
   ],
   "source": [
    "X_train.head()"
   ]
  },
  {
   "cell_type": "markdown",
   "metadata": {},
   "source": [
    "## Cleaning Data using NLP Techniques"
   ]
  },
  {
   "cell_type": "code",
   "execution_count": 23,
   "metadata": {},
   "outputs": [],
   "source": [
    "tfidf_vectorizer = TfidfVectorizer(stop_words='english', max_df=0.80)  \n",
    "tfidf_train = tfidf_vectorizer.fit_transform(X_train) \n",
    "tfidf_test = tfidf_vectorizer.transform(X_test)"
   ]
  },
  {
   "cell_type": "markdown",
   "metadata": {},
   "source": [
    "## Classification Algorithms"
   ]
  },
  {
   "cell_type": "markdown",
   "metadata": {},
   "source": [
    "### Logistic Regression"
   ]
  },
  {
   "cell_type": "code",
   "execution_count": 25,
   "metadata": {},
   "outputs": [
    {
     "name": "stderr",
     "output_type": "stream",
     "text": [
      "[Parallel(n_jobs=-1)]: Using backend LokyBackend with 12 concurrent workers.\n",
      "[Parallel(n_jobs=-1)]: Done   2 out of   5 | elapsed:  1.5min remaining:  2.3min\n",
      "[Parallel(n_jobs=-1)]: Done   5 out of   5 | elapsed:  1.6min finished\n"
     ]
    }
   ],
   "source": [
    "logreg = LogisticRegressionCV(cv=5, scoring='accuracy', random_state=0, n_jobs=-1, verbose=3, max_iter=300).fit(tfidf_train, y_train)"
   ]
  },
  {
   "cell_type": "code",
   "execution_count": 26,
   "metadata": {},
   "outputs": [
    {
     "name": "stdout",
     "output_type": "stream",
     "text": [
      "Accuracy of Logistic classifier on test set: 0.9399141630901288\n"
     ]
    }
   ],
   "source": [
    "pred = logreg.predict(tfidf_test)\n",
    "print('Accuracy of Logistic classifier on test set:',accuracy_score(y_test, pred))"
   ]
  },
  {
   "cell_type": "code",
   "execution_count": 27,
   "metadata": {},
   "outputs": [
    {
     "name": "stdout",
     "output_type": "stream",
     "text": [
      "[[118   8]\n",
      " [  6 101]]\n"
     ]
    }
   ],
   "source": [
    "results1=confusion_matrix(y_test, pred)\n",
    "print(results1)"
   ]
  },
  {
   "cell_type": "code",
   "execution_count": 28,
   "metadata": {},
   "outputs": [
    {
     "name": "stdout",
     "output_type": "stream",
     "text": [
      "              precision    recall  f1-score   support\n",
      "\n",
      "        FAKE       0.95      0.94      0.94       126\n",
      "        TRUE       0.93      0.94      0.94       107\n",
      "\n",
      "    accuracy                           0.94       233\n",
      "   macro avg       0.94      0.94      0.94       233\n",
      "weighted avg       0.94      0.94      0.94       233\n",
      "\n"
     ]
    }
   ],
   "source": [
    "print(classification_report(y_test,pred))"
   ]
  },
  {
   "cell_type": "code",
   "execution_count": 29,
   "metadata": {},
   "outputs": [
    {
     "name": "stdout",
     "output_type": "stream",
     "text": [
      "Precision= 0.9365079365079365\n",
      "Recall= 0.9516129032258065\n"
     ]
    }
   ],
   "source": [
    "precision0 = (results1[0][0]/(results1[0][1]+results1[0][0]))\n",
    "print('Precision=',precision0)\n",
    "\n",
    "recall0 = (results1[0][0]/(results1[1][0]+results1[0][0]))\n",
    "print('Recall=',recall0)"
   ]
  },
  {
   "cell_type": "code",
   "execution_count": 45,
   "metadata": {},
   "outputs": [
    {
     "name": "stdout",
     "output_type": "stream",
     "text": [
      "[[ 4.30793651e+00 -2.03698191e-02  8.81305544e-04 ... -2.07244821e-01\n",
      "  -1.04643500e-01 -8.92310827e-01]]\n"
     ]
    }
   ],
   "source": [
    "coefficients=logreg.coef_\n",
    "print(coefficients)"
   ]
  },
  {
   "cell_type": "markdown",
   "metadata": {},
   "source": [
    "### Saving Model via Pickle"
   ]
  },
  {
   "cell_type": "code",
   "execution_count": 77,
   "metadata": {},
   "outputs": [],
   "source": [
    "logreg_model = open('logreg_model.sav', 'wb')\n",
    "pickle.dump(logreg, logreg_model)\n",
    "logreg_model.close()"
   ]
  },
  {
   "cell_type": "code",
   "execution_count": 78,
   "metadata": {},
   "outputs": [],
   "source": [
    "filename = 'logreg_model.sav'\n",
    "saved_model = pickle.load(open(filename, 'rb'))"
   ]
  },
  {
   "cell_type": "code",
   "execution_count": 79,
   "metadata": {},
   "outputs": [
    {
     "data": {
      "text/plain": [
       "0.9399141630901288"
      ]
     },
     "execution_count": 79,
     "metadata": {},
     "output_type": "execute_result"
    }
   ],
   "source": [
    "saved_model.score(tfidf_test,y_test)"
   ]
  },
  {
   "cell_type": "markdown",
   "metadata": {},
   "source": [
    "### Random Classifier"
   ]
  },
  {
   "cell_type": "code",
   "execution_count": 54,
   "metadata": {},
   "outputs": [],
   "source": [
    "rfc = RandomForestClassifier()\n"
   ]
  },
  {
   "cell_type": "code",
   "execution_count": 55,
   "metadata": {},
   "outputs": [
    {
     "name": "stdout",
     "output_type": "stream",
     "text": [
      "Accuracy of Random Forest classifier on test set: 0.93\n"
     ]
    }
   ],
   "source": [
    "rfc.fit(tfidf_train, y_train)\n",
    "pred2 = rfc.predict(tfidf_test)"
   ]
  },
  {
   "cell_type": "code",
   "execution_count": 62,
   "metadata": {},
   "outputs": [
    {
     "name": "stdout",
     "output_type": "stream",
     "text": [
      "Accuracy of Random Forest classifier on test set:  0.927038626609442\n"
     ]
    }
   ],
   "source": [
    "print('Accuracy of Random Forest classifier on test set: ',accuracy_score(y_test,pred2))"
   ]
  },
  {
   "cell_type": "code",
   "execution_count": 56,
   "metadata": {},
   "outputs": [
    {
     "name": "stdout",
     "output_type": "stream",
     "text": [
      "[[116  10]\n",
      " [  7 100]]\n"
     ]
    }
   ],
   "source": [
    "results2=confusion_matrix(y_test, pred2)\n",
    "print(results2)"
   ]
  },
  {
   "cell_type": "code",
   "execution_count": 57,
   "metadata": {},
   "outputs": [
    {
     "name": "stdout",
     "output_type": "stream",
     "text": [
      "Prcision= 0.9206349206349206\n",
      "Recall= 0.943089430894309\n"
     ]
    }
   ],
   "source": [
    "precision2 = (results2[0][0]/(results2[0][1]+results2[0][0]))\n",
    "print('Prcision=',precision2)\n",
    "\n",
    "recall2 = (results2[0][0]/(results2[1][0]+results2[0][0]))\n",
    "print('Recall=',recall2)"
   ]
  },
  {
   "cell_type": "code",
   "execution_count": 58,
   "metadata": {},
   "outputs": [
    {
     "name": "stdout",
     "output_type": "stream",
     "text": [
      "F1 score= 2.8292682926829267\n"
     ]
    }
   ],
   "source": [
    "f1_score2=((2*precision2*recall2)/precision2+recall2)\n",
    "print('F1 score=',f1_score2)"
   ]
  },
  {
   "cell_type": "markdown",
   "metadata": {},
   "source": [
    "### Support Vector Machine"
   ]
  },
  {
   "cell_type": "code",
   "execution_count": 30,
   "metadata": {},
   "outputs": [],
   "source": [
    "support_vector_machine=svm.SVC()"
   ]
  },
  {
   "cell_type": "code",
   "execution_count": 32,
   "metadata": {},
   "outputs": [
    {
     "name": "stdout",
     "output_type": "stream",
     "text": [
      "Accuracy of SVM on test set: 0.9227467811158798\n"
     ]
    }
   ],
   "source": [
    "support_vector_machine.fit(tfidf_train, y_train)\n",
    "pred3 = support_vector_machine.predict(tfidf_test)\n",
    "\n",
    "print('Accuracy of SVM on test set:',accuracy_score(y_test, pred3))"
   ]
  },
  {
   "cell_type": "code",
   "execution_count": 33,
   "metadata": {},
   "outputs": [
    {
     "name": "stdout",
     "output_type": "stream",
     "text": [
      "[[115  11]\n",
      " [  7 100]]\n"
     ]
    }
   ],
   "source": [
    "results3=confusion_matrix(y_test, pred3)\n",
    "print(results3)"
   ]
  },
  {
   "cell_type": "code",
   "execution_count": null,
   "metadata": {},
   "outputs": [],
   "source": []
  },
  {
   "cell_type": "markdown",
   "metadata": {},
   "source": [
    "### Pipeline Creation"
   ]
  },
  {
   "cell_type": "code",
   "execution_count": 63,
   "metadata": {},
   "outputs": [],
   "source": [
    "pipeline = Pipeline([\n",
    "    ('vect', CountVectorizer(stop_words='english')),\n",
    "    ('tfidf', TfidfTransformer()),\n",
    "    ('clf',RandomForestClassifier()),])"
   ]
  },
  {
   "cell_type": "code",
   "execution_count": 64,
   "metadata": {},
   "outputs": [
    {
     "data": {
      "text/plain": [
       "Pipeline(steps=[('vect', CountVectorizer(stop_words='english')),\n",
       "                ('tfidf', TfidfTransformer()),\n",
       "                ('clf', RandomForestClassifier())])"
      ]
     },
     "execution_count": 64,
     "metadata": {},
     "output_type": "execute_result"
    }
   ],
   "source": [
    "pipeline.fit(X_train, y_train)"
   ]
  },
  {
   "cell_type": "code",
   "execution_count": 65,
   "metadata": {},
   "outputs": [
    {
     "data": {
      "text/plain": [
       "array(['FAKE'], dtype=object)"
      ]
     },
     "execution_count": 65,
     "metadata": {},
     "output_type": "execute_result"
    }
   ],
   "source": [
    "pipeline.predict([\"All deaths by respiratory failure and pneumonia are being registered as COVID-19, according to the Civil Registry website.\"])"
   ]
  },
  {
   "cell_type": "code",
   "execution_count": 66,
   "metadata": {},
   "outputs": [
    {
     "data": {
      "text/plain": [
       "['pipeline.sav']"
      ]
     },
     "execution_count": 66,
     "metadata": {},
     "output_type": "execute_result"
    }
   ],
   "source": [
    "#saving the pipeline\n",
    "filename = 'pipeline.sav'\n",
    "joblib.dump(pipeline, filename)"
   ]
  },
  {
   "cell_type": "code",
   "execution_count": 67,
   "metadata": {},
   "outputs": [],
   "source": [
    "filename = './pipeline.sav'"
   ]
  },
  {
   "cell_type": "code",
   "execution_count": 68,
   "metadata": {},
   "outputs": [
    {
     "name": "stdout",
     "output_type": "stream",
     "text": [
      "['TRUE']\n"
     ]
    }
   ],
   "source": [
    "loaded_model = joblib.load(filename)\n",
    "result = loaded_model.predict([\"One of the challenges being faced worldwide is the rate of infection of health professionals while treating COVID-19 patients.  2016 statistics show the following picture of Rwanda’s health sector: 1/50,505 ground ambulance / population Ratio; 1/10,055 Doctor/population ratio; 1/1,094 Nurse/population ratio; 1/10,500 Laboratory technicians /population ratio. Although Rwanda is on track to meeting most of the required quota, the country cannot afford the set back that a pandemic like COVID-19 among health professionals would cause. To minimize contact time with confirmed cases and therefore reducing the risk of contamination of health professionals in COVID-19 treatment centres, robots were deployed. At Gatenga and Kanyinya treatment centres in Kigali City, visits by medical staff to patients went from 3-4 to 2 per day since May 2020. The 5 human-size robots are programmed to perform temperature screening, take readings of vitals, deliver video messages and detect people not wearing masks then instruct them to wear masks properly. On Tuesday, May 19 at the Kanyinya COVID-19 Treatment Centre, the 5 robots were launched by the Ministry of Health. Named in Kinyarwanda, Akazuba, Ikirezi, Mwiza, Ngabo, and Urumuri are made by Zora Bots, a Belgian company specialised in robotics. They were acquired through a partnership between the UNDP Rwanda Accelerator Lab (AccLab) and the Ministry of ICT and Innovation.  Each robot costs about $30,000. Urumuri is currently deployed at the Kigali International Airport with the capacity to screen 50 to 150 people per minute and report abnormalities to officers on duty. As Rwanda is reopening Kigali International Airport for commercial international flights from 1st of August, Urumuri will allow to speed up mass screenings of fever for passengers as they land. Smart anti-epidemic robots have been used in Asia to help flatten the COVID-19 curve. The pandemic has proven to be a crosscutting challenge affecting Rwanda in all sectors (Health, Economy, Education, Agriculture, …). It therefore requires different sometimes innovative solutions with available resources like robots.\"])\n",
    "print(result) "
   ]
  }
 ],
 "metadata": {
  "kernelspec": {
   "display_name": "Python 3",
   "language": "python",
   "name": "python3"
  },
  "language_info": {
   "codemirror_mode": {
    "name": "ipython",
    "version": 3
   },
   "file_extension": ".py",
   "mimetype": "text/x-python",
   "name": "python",
   "nbconvert_exporter": "python",
   "pygments_lexer": "ipython3",
   "version": "3.7.4"
  }
 },
 "nbformat": 4,
 "nbformat_minor": 2
}
